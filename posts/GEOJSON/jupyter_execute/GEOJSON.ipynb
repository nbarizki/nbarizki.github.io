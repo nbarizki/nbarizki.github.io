{
 "cells": [
  {
   "cell_type": "markdown",
   "metadata": {},
   "source": [
    "# Contoh Pengolahan Data GeoJSON Menggunakan *shapely*, *geopandas*, dan *plotly* (in Python)"
   ]
  },
  {
   "cell_type": "code",
   "execution_count": 1,
   "metadata": {},
   "outputs": [],
   "source": [
    "# data wrangling, inspecting and utilities modules\n",
    "import pandas as pd\n",
    "import numpy as np\n",
    "import geopandas\n",
    "# informative chart modules\n",
    "import plotly.express as px\n",
    "import matplotlib.pyplot as plt\n",
    "# geo module\n",
    "from shapely.geometry import Polygon, MultiPolygon, Point\n",
    "# utilities\n",
    "import random\n",
    "import warnings\n",
    "import json\n",
    "\n",
    "# setting pandas options\n",
    "pd.set_option('display.float', '{:,.2f}'.format)\n",
    "pd.set_option('display.max_columns', 75)\n",
    "pd.set_option('display.max_rows', 75)\n",
    "pd.set_option('display.max_info_columns', 50)\n",
    "warnings.filterwarnings('ignore', category=DeprecationWarning)"
   ]
  },
  {
   "cell_type": "markdown",
   "metadata": {},
   "source": [
    "## 1. *Low-level* Operations menggunakan `shapely`"
   ]
  },
  {
   "cell_type": "markdown",
   "metadata": {},
   "source": [
    "Package *shapely* memiliki banyak tipe geometri (lihat [dokumentasi](https://shapely.readthedocs.io/en/stable/geometry.html) untuk info lebih jelasnya). Kita akan menggunakan tipe geometri yang paling sering dioperasikan menggunakan file *geojson*: `Point`, `Polygon`, dan `MultiPolygon`. Object geometry *shapely* bersifat *immutable*. "
   ]
  },
  {
   "cell_type": "markdown",
   "metadata": {},
   "source": [
    "#### **Contoh implementasi: random sampling point di dalam polygon**"
   ]
  },
  {
   "cell_type": "markdown",
   "metadata": {},
   "source": [
    "Berikut adalah *polygon* DKI Jakarta (tidak termasuk kepulauan seribu). Polygon ini merupakan polygon *level 1* (administratif level *provinsi*).\n",
    "\n",
    "![dki_jakarta_l1](img\\DKI_Jakarta_LVL_1.PNG)"
   ]
  },
  {
   "cell_type": "markdown",
   "metadata": {},
   "source": [
    "Kita akan membuat polygon diatas dalam bentuk object *shapely*:"
   ]
  },
  {
   "cell_type": "code",
   "execution_count": 2,
   "metadata": {},
   "outputs": [],
   "source": [
    "filename = 'data\\DKI_JAKARTA_lvl_1.json'\n",
    "with open(filename, 'r') as f:\n",
    "    poly_geojson_1 = json.load(f)\n",
    "poly_coord = poly_geojson_1['features'][0]['geometry']['coordinates'][0]\n",
    "poly_obj = Polygon(shell=poly_coord)"
   ]
  },
  {
   "cell_type": "markdown",
   "metadata": {},
   "source": [
    "Dalam code diatas:\n",
    "\n",
    "- Kita membaca file *geojson* menggunakan package `json`\n",
    "- Koordinat polygon kita akses didalam object `json` dari tahap sebelumnya\n",
    "- Kita meng-*construct* `shapely.Polygon` dengan menggunakan koordinat polygon sebagai `shell` kwags.\n",
    "\n",
    "Kita bisa memanfaatkan *attribut* dan *method* dari object `shapely.Polygon`. Katakanlah kita mau mengecek apakah suatu titik koordinat berada di area DKI Jakarta. Kita gunakan geometri *point*, yaitu `shapely.Point`.\n",
    "\n",
    "Mengapa perlu menggunakan `shapely.Point`? Ini karena *method* yang akan kita gunakan (`shapely.Polygon.contains`) mengharuskan kita untuk *passing* argument berupa object *shapely*."
   ]
  },
  {
   "cell_type": "code",
   "execution_count": 3,
   "metadata": {},
   "outputs": [
    {
     "name": "stdout",
     "output_type": "stream",
     "text": [
      "coordinate in DKI Jakarta: True\n"
     ]
    }
   ],
   "source": [
    "coordinate = (106.91497998166815, -6.254602478608049)\n",
    "p = Point(coordinate)\n",
    "print(f'coordinate in DKI Jakarta: {poly_obj.contains(p)}')"
   ]
  },
  {
   "cell_type": "markdown",
   "metadata": {},
   "source": [
    "Dengan menggunakan method `shapely.Polygon.contains()` kita mengeceka apakah `shapely.Point` berada di dalam polygon tersebut.\n",
    "\n",
    "Problem di atas dapat kita kembangkan lagi, sebagai contoh: *Tentukan 100 titik sampling secara random di dalam lingkup DKI Jakarta.* \n",
    "\n",
    "Kode dibawah adalah contoh solusi dari problem tersebut:"
   ]
  },
  {
   "cell_type": "code",
   "execution_count": 4,
   "metadata": {},
   "outputs": [
    {
     "data": {
      "text/html": [
       "<iframe\n",
       "    scrolling=\"no\"\n",
       "    width=\"100%\"\n",
       "    height=\"545px\"\n",
       "    src=\"iframe_figures/figure_4.html\"\n",
       "    frameborder=\"0\"\n",
       "    allowfullscreen\n",
       "></iframe>\n"
      ]
     },
     "metadata": {},
     "output_type": "display_data"
    }
   ],
   "source": [
    "def generate_random_points(polygon: object, num_points):\n",
    "    minx, miny, maxx, maxy = polygon.bounds\n",
    "    points = []\n",
    "    while len(points) < num_points:\n",
    "        x = random.uniform(minx, maxx)\n",
    "        y = random.uniform(miny, maxy)\n",
    "        p = Point(x, y)\n",
    "        if polygon.contains(p):\n",
    "            points.append((y, x))\n",
    "    return np.array(points)\n",
    "\n",
    "# generate random points inside polygon\n",
    "sampling_points = generate_random_points(poly_obj, 100)\n",
    "\n",
    "# plot\n",
    "fig = px.scatter_mapbox(\n",
    "    lat=sampling_points[:, 0], lon=sampling_points[:, 1],\n",
    "    color_discrete_sequence=np.repeat('red', len(sampling_points))\n",
    "    )\n",
    "fig.update_layout(\n",
    "    title='Sampling Points',\n",
    "    mapbox_style=\"stamen-toner\",            \n",
    "    autosize=True,\n",
    "    hovermode='closest',\n",
    "    mapbox=dict(zoom=9)\n",
    "    )\n",
    "fig.show(renderer='iframe')"
   ]
  },
  {
   "cell_type": "markdown",
   "metadata": {},
   "source": [
    "Dalam kode diatas:\n",
    "\n",
    "- Kita menggunakan attribute `shapely.Polygon.bound` untuk mendapatkan informasi terkait boundary polygon.\n",
    "- Kita generate random point di dalam range boundary tersebut\n",
    "- Kita cek, apakah titik tersebut berada di dalam polygon? Jika tidak, kita generate ulang titiknya sampai jumlah titik yang didapat sesuai\n",
    "\n",
    "Dapat kita lihat bahwa semua titik berada di dalam lingkup administratif DKI Jakarta."
   ]
  },
  {
   "cell_type": "markdown",
   "metadata": {},
   "source": [
    "#### **Multipolygon**"
   ]
  },
  {
   "cell_type": "markdown",
   "metadata": {},
   "source": [
    "`shapely.MultiPolygon` adalah object untuk menyimpan deretan *Polygon*."
   ]
  },
  {
   "cell_type": "code",
   "execution_count": 5,
   "metadata": {},
   "outputs": [],
   "source": [
    "filename = 'data\\DKI_JAKARTA_lvl_3.json'\n",
    "with open(filename, 'r') as f:\n",
    "    poly_geojson_3 = json.load(f)\n",
    "districts = {}\n",
    "for feature in poly_geojson_3['features']:\n",
    "    districts[feature['properties']['NAME_3']] = Polygon(feature['geometry']['coordinates'][0][0])\n",
    "\n",
    "poly_districs = MultiPolygon([values for values in districts.values()])"
   ]
  },
  {
   "cell_type": "markdown",
   "metadata": {},
   "source": [
    "Kita bisa mengakses object di dalam *MultiPolygon*:"
   ]
  },
  {
   "cell_type": "code",
   "execution_count": 6,
   "metadata": {},
   "outputs": [
    {
     "name": "stdout",
     "output_type": "stream",
     "text": [
      "Luas area: 0.0008776349999998809\n",
      "Coordinate in geoms: False\n"
     ]
    }
   ],
   "source": [
    "print(f'Luas area: {poly_districs.geoms[1].area}')\n",
    "coordinate = (106.91497998166815, -6.254602478608049)\n",
    "p = Point(coordinate)\n",
    "print(f'Coordinate in geoms: {poly_districs.geoms[1].contains(p)}')"
   ]
  },
  {
   "cell_type": "markdown",
   "metadata": {},
   "source": [
    "## 2. Implementasi `geopandas`"
   ]
  },
  {
   "cell_type": "markdown",
   "metadata": {},
   "source": [
    "Package `geopandas` adalah kombinasi antara `pandas` dan `shapely` sebagai package untuk mengoperasikan geometric object. Object utamanya yaitu `GeoDataFrame`."
   ]
  },
  {
   "cell_type": "markdown",
   "metadata": {},
   "source": [
    "#### **Membuat GeoDataFrame dengan Membaca GeoJSON**"
   ]
  },
  {
   "cell_type": "markdown",
   "metadata": {},
   "source": [
    "Kita bisa membuat `GeoDataFrame` menggunakan `geopandas.read_file`:"
   ]
  },
  {
   "cell_type": "code",
   "execution_count": 7,
   "metadata": {
    "tags": [
     "output_scroll"
    ]
   },
   "outputs": [
    {
     "data": {
      "text/html": [
       "<div>\n",
       "<style scoped>\n",
       "    .dataframe tbody tr th:only-of-type {\n",
       "        vertical-align: middle;\n",
       "    }\n",
       "\n",
       "    .dataframe tbody tr th {\n",
       "        vertical-align: top;\n",
       "    }\n",
       "\n",
       "    .dataframe thead th {\n",
       "        text-align: right;\n",
       "    }\n",
       "</style>\n",
       "<table border=\"1\" class=\"dataframe\">\n",
       "  <thead>\n",
       "    <tr style=\"text-align: right;\">\n",
       "      <th></th>\n",
       "      <th>country</th>\n",
       "      <th>province</th>\n",
       "      <th>city</th>\n",
       "      <th>district</th>\n",
       "      <th>geometry</th>\n",
       "    </tr>\n",
       "  </thead>\n",
       "  <tbody>\n",
       "    <tr>\n",
       "      <th>0</th>\n",
       "      <td>Indonesia</td>\n",
       "      <td>JakartaRaya</td>\n",
       "      <td>JakartaBarat</td>\n",
       "      <td>Cengkareng</td>\n",
       "      <td>MULTIPOLYGON (((106.70850 -6.18110, 106.70040 ...</td>\n",
       "    </tr>\n",
       "    <tr>\n",
       "      <th>1</th>\n",
       "      <td>Indonesia</td>\n",
       "      <td>JakartaRaya</td>\n",
       "      <td>JakartaBarat</td>\n",
       "      <td>Grogolpetamburan</td>\n",
       "      <td>MULTIPOLYGON (((106.79450 -6.15270, 106.79940 ...</td>\n",
       "    </tr>\n",
       "    <tr>\n",
       "      <th>2</th>\n",
       "      <td>Indonesia</td>\n",
       "      <td>JakartaRaya</td>\n",
       "      <td>JakartaBarat</td>\n",
       "      <td>Kalideres</td>\n",
       "      <td>MULTIPOLYGON (((106.68870 -6.17120, 106.69000 ...</td>\n",
       "    </tr>\n",
       "    <tr>\n",
       "      <th>3</th>\n",
       "      <td>Indonesia</td>\n",
       "      <td>JakartaRaya</td>\n",
       "      <td>JakartaBarat</td>\n",
       "      <td>Kebonjeruk</td>\n",
       "      <td>MULTIPOLYGON (((106.78270 -6.20260, 106.78350 ...</td>\n",
       "    </tr>\n",
       "    <tr>\n",
       "      <th>4</th>\n",
       "      <td>Indonesia</td>\n",
       "      <td>JakartaRaya</td>\n",
       "      <td>JakartaBarat</td>\n",
       "      <td>Kembangan</td>\n",
       "      <td>MULTIPOLYGON (((106.72020 -6.22420, 106.71760 ...</td>\n",
       "    </tr>\n",
       "  </tbody>\n",
       "</table>\n",
       "</div>"
      ],
      "text/plain": [
       "     country     province          city          district  \\\n",
       "0  Indonesia  JakartaRaya  JakartaBarat        Cengkareng   \n",
       "1  Indonesia  JakartaRaya  JakartaBarat  Grogolpetamburan   \n",
       "2  Indonesia  JakartaRaya  JakartaBarat         Kalideres   \n",
       "3  Indonesia  JakartaRaya  JakartaBarat        Kebonjeruk   \n",
       "4  Indonesia  JakartaRaya  JakartaBarat         Kembangan   \n",
       "\n",
       "                                            geometry  \n",
       "0  MULTIPOLYGON (((106.70850 -6.18110, 106.70040 ...  \n",
       "1  MULTIPOLYGON (((106.79450 -6.15270, 106.79940 ...  \n",
       "2  MULTIPOLYGON (((106.68870 -6.17120, 106.69000 ...  \n",
       "3  MULTIPOLYGON (((106.78270 -6.20260, 106.78350 ...  \n",
       "4  MULTIPOLYGON (((106.72020 -6.22420, 106.71760 ...  "
      ]
     },
     "execution_count": 7,
     "metadata": {},
     "output_type": "execute_result"
    }
   ],
   "source": [
    "jakarta_gdf = geopandas.read_file('data\\DKI_JAKARTA_lvl_3.json')\n",
    "jakarta_gdf = jakarta_gdf.rename(\n",
    "    columns={\n",
    "        'COUNTRY': 'country', \n",
    "        'NAME_1': 'province', \n",
    "        'NAME_2': 'city',\n",
    "        'NAME_3': 'district'}\n",
    "    )\n",
    "jakarta_gdf = jakarta_gdf[['country', 'province', 'city', 'district', 'geometry']]\n",
    "jakarta_gdf.head()\n",
    "        "
   ]
  },
  {
   "cell_type": "markdown",
   "metadata": {},
   "source": [
    "Dari *GeoDataFrame* diatas kita dapat setiap *features* dari GeoJSON DKI Jakarta level 3. Kolom `geometry` menyimpan object `shapely`:"
   ]
  },
  {
   "cell_type": "code",
   "execution_count": 8,
   "metadata": {},
   "outputs": [
    {
     "name": "stdout",
     "output_type": "stream",
     "text": [
      "<class 'shapely.geometry.multipolygon.MultiPolygon'>\n"
     ]
    },
    {
     "data": {
      "image/svg+xml": [
       "<svg xmlns=\"http://www.w3.org/2000/svg\" xmlns:xlink=\"http://www.w3.org/1999/xlink\" width=\"100.0\" height=\"100.0\" viewBox=\"106.697396 -6.192804 0.0811080000000004 0.0759079999999992\" preserveAspectRatio=\"xMinYMin meet\"><g transform=\"matrix(1,0,0,-1,0,-12.3097)\"><g><path fill-rule=\"evenodd\" fill=\"#66cc99\" stroke=\"#555555\" stroke-width=\"0.0016221600000000081\" opacity=\"0.6\" d=\"M 106.7085,-6.1811 L 106.7004,-6.1771 L 106.7087,-6.1729 L 106.7089,-6.1745 L 106.7106,-6.1742 L 106.7137,-6.168 L 106.7165,-6.1659 L 106.7157,-6.1552 L 106.7189,-6.1535 L 106.7178,-6.1455 L 106.7206,-6.1403 L 106.718,-6.1311 L 106.7205,-6.1268 L 106.7243,-6.1263 L 106.7213,-6.1221 L 106.7232,-6.1208 L 106.7248,-6.1199 L 106.727,-6.1236 L 106.7292,-6.1241 L 106.7316,-6.1216 L 106.7509,-6.1344 L 106.7682,-6.1407 L 106.7755,-6.1417 L 106.7751,-6.1452 L 106.7666,-6.1605 L 106.7477,-6.158 L 106.7487,-6.1657 L 106.7439,-6.1659 L 106.7416,-6.1681 L 106.7394,-6.168 L 106.7388,-6.1698 L 106.7379,-6.1688 L 106.7382,-6.1706 L 106.7357,-6.1699 L 106.7334,-6.1716 L 106.7309,-6.176 L 106.7292,-6.1752 L 106.7257,-6.1787 L 106.723,-6.1844 L 106.7241,-6.1858 L 106.718,-6.1878 L 106.7165,-6.1898 L 106.7171,-6.1867 L 106.7085,-6.1811 z\" /></g></g></svg>"
      ],
      "text/plain": [
       "<shapely.geometry.multipolygon.MultiPolygon at 0x1befec4ac10>"
      ]
     },
     "execution_count": 8,
     "metadata": {
      "filenames": {
       "image/svg+xml": "D:\\LEARN\\DATA SCIENCE\\2 WORKSPACE\\4 PROJECT\\6 GEOJSON EXAMPLE\\geojsonwithpython\\_build\\_page\\GEOJSON\\jupyter_execute\\GEOJSON_24_1.svg"
      }
     },
     "output_type": "execute_result"
    }
   ],
   "source": [
    "sample = jakarta_gdf.geometry[0]\n",
    "print(type(sample))\n",
    "sample"
   ]
  },
  {
   "cell_type": "markdown",
   "metadata": {},
   "source": [
    "#### **Operasi yang Melibatkan GeoPandas**"
   ]
  },
  {
   "cell_type": "markdown",
   "metadata": {},
   "source": [
    "GeoPandas mempunyai *tools* untuk mengolah GeoDataFrame (satu atau lebih). Dalam contoh kali ini, kita akan menggabungkan dua *GeoDataFrame* menggunakan `geopandas.sjoin`.\n",
    "\n",
    "Di dalam repository ini terdapat data yang berisi *jarak dari suatu titik (lat, long) terhadap fasilitas publik terdekat (dalam contoh ini adalah rumah sakit)*. Dataset ini berisi *records*  berikut:\n",
    "\n",
    "![sampling](img\\Contoh_hasil_sampling.PNG)\n",
    "\n",
    "Kita akan meng-construct satu *GeoDataFrame* menggunakan dataset ini!"
   ]
  },
  {
   "cell_type": "code",
   "execution_count": 9,
   "metadata": {
    "tags": [
     "output_scroll"
    ]
   },
   "outputs": [
    {
     "data": {
      "text/html": [
       "<div>\n",
       "<style scoped>\n",
       "    .dataframe tbody tr th:only-of-type {\n",
       "        vertical-align: middle;\n",
       "    }\n",
       "\n",
       "    .dataframe tbody tr th {\n",
       "        vertical-align: top;\n",
       "    }\n",
       "\n",
       "    .dataframe thead th {\n",
       "        text-align: right;\n",
       "    }\n",
       "</style>\n",
       "<table border=\"1\" class=\"dataframe\">\n",
       "  <thead>\n",
       "    <tr style=\"text-align: right;\">\n",
       "      <th></th>\n",
       "      <th>waktu</th>\n",
       "      <th>tag</th>\n",
       "      <th>lat</th>\n",
       "      <th>long</th>\n",
       "      <th>tag_tujuan</th>\n",
       "      <th>tujuan_terdekat</th>\n",
       "      <th>durasi_tempuh</th>\n",
       "      <th>durasi_tempuh_unit</th>\n",
       "      <th>jarak_tempuh</th>\n",
       "      <th>jarak_tempuh_unit</th>\n",
       "      <th>rute</th>\n",
       "    </tr>\n",
       "  </thead>\n",
       "  <tbody>\n",
       "    <tr>\n",
       "      <th>0</th>\n",
       "      <td>2023-02-06_13-04</td>\n",
       "      <td>mengemudi</td>\n",
       "      <td>-6.25</td>\n",
       "      <td>106.91</td>\n",
       "      <td>hospital</td>\n",
       "      <td>Harum Sisma Medika Hospital, Jl. Lobi dan UGD ...</td>\n",
       "      <td>9.00</td>\n",
       "      <td>min</td>\n",
       "      <td>2.50</td>\n",
       "      <td>km</td>\n",
       "      <td>Jl. Elang Malindo</td>\n",
       "    </tr>\n",
       "    <tr>\n",
       "      <th>1</th>\n",
       "      <td>2023-02-06_13-04</td>\n",
       "      <td>mengemudi</td>\n",
       "      <td>-6.25</td>\n",
       "      <td>106.91</td>\n",
       "      <td>hospital</td>\n",
       "      <td>Harum Sisma Medika Hospital, Jl. Lobi dan UGD ...</td>\n",
       "      <td>9.00</td>\n",
       "      <td>min</td>\n",
       "      <td>2.50</td>\n",
       "      <td>km</td>\n",
       "      <td>Jl. Raya Jatiwaringin</td>\n",
       "    </tr>\n",
       "    <tr>\n",
       "      <th>2</th>\n",
       "      <td>2023-02-06_13-04</td>\n",
       "      <td>mengemudi</td>\n",
       "      <td>-6.25</td>\n",
       "      <td>106.91</td>\n",
       "      <td>hospital</td>\n",
       "      <td>Harum Sisma Medika Hospital, Jl. Lobi dan UGD ...</td>\n",
       "      <td>9.00</td>\n",
       "      <td>min</td>\n",
       "      <td>2.50</td>\n",
       "      <td>km</td>\n",
       "      <td>Jl. Elang Malindo V</td>\n",
       "    </tr>\n",
       "    <tr>\n",
       "      <th>3</th>\n",
       "      <td>2023-02-06_13-04</td>\n",
       "      <td>mengemudi</td>\n",
       "      <td>-6.25</td>\n",
       "      <td>106.91</td>\n",
       "      <td>hospital</td>\n",
       "      <td>Harum Sisma Medika Hospital, Jl. Lobi dan UGD ...</td>\n",
       "      <td>9.00</td>\n",
       "      <td>min</td>\n",
       "      <td>2.50</td>\n",
       "      <td>km</td>\n",
       "      <td>Jl. Elang Malindo III</td>\n",
       "    </tr>\n",
       "    <tr>\n",
       "      <th>4</th>\n",
       "      <td>2023-02-06_13-04</td>\n",
       "      <td>mengemudi</td>\n",
       "      <td>-6.25</td>\n",
       "      <td>106.91</td>\n",
       "      <td>hospital</td>\n",
       "      <td>Harum Sisma Medika Hospital, Jl. Lobi dan UGD ...</td>\n",
       "      <td>9.00</td>\n",
       "      <td>min</td>\n",
       "      <td>2.50</td>\n",
       "      <td>km</td>\n",
       "      <td>Jl. Wirajasa</td>\n",
       "    </tr>\n",
       "  </tbody>\n",
       "</table>\n",
       "</div>"
      ],
      "text/plain": [
       "              waktu        tag   lat   long tag_tujuan  \\\n",
       "0  2023-02-06_13-04  mengemudi -6.25 106.91   hospital   \n",
       "1  2023-02-06_13-04  mengemudi -6.25 106.91   hospital   \n",
       "2  2023-02-06_13-04  mengemudi -6.25 106.91   hospital   \n",
       "3  2023-02-06_13-04  mengemudi -6.25 106.91   hospital   \n",
       "4  2023-02-06_13-04  mengemudi -6.25 106.91   hospital   \n",
       "\n",
       "                                     tujuan_terdekat  durasi_tempuh  \\\n",
       "0  Harum Sisma Medika Hospital, Jl. Lobi dan UGD ...           9.00   \n",
       "1  Harum Sisma Medika Hospital, Jl. Lobi dan UGD ...           9.00   \n",
       "2  Harum Sisma Medika Hospital, Jl. Lobi dan UGD ...           9.00   \n",
       "3  Harum Sisma Medika Hospital, Jl. Lobi dan UGD ...           9.00   \n",
       "4  Harum Sisma Medika Hospital, Jl. Lobi dan UGD ...           9.00   \n",
       "\n",
       "  durasi_tempuh_unit  jarak_tempuh jarak_tempuh_unit                   rute  \n",
       "0                min          2.50                km      Jl. Elang Malindo  \n",
       "1                min          2.50                km  Jl. Raya Jatiwaringin  \n",
       "2                min          2.50                km    Jl. Elang Malindo V  \n",
       "3                min          2.50                km  Jl. Elang Malindo III  \n",
       "4                min          2.50                km           Jl. Wirajasa  "
      ]
     },
     "execution_count": 9,
     "metadata": {},
     "output_type": "execute_result"
    }
   ],
   "source": [
    "sampling_df = pd.read_csv('data\\dki_data_akses_hospital.csv')\n",
    "sampling_df.head()"
   ]
  },
  {
   "cell_type": "markdown",
   "metadata": {},
   "source": [
    "Dapat kita lihat bahwa data tersebut dalam *long format*. Dalam satu destinasi terdapat banyak *rute* (jalan) yang dilalui dari titik ke destinasi terdekat.\n",
    "\n",
    "Dalam contoh ini, kita tidak membutuhkan data rute ini:"
   ]
  },
  {
   "cell_type": "code",
   "execution_count": 10,
   "metadata": {
    "tags": [
     "output_scroll"
    ]
   },
   "outputs": [
    {
     "data": {
      "text/html": [
       "<div>\n",
       "<style scoped>\n",
       "    .dataframe tbody tr th:only-of-type {\n",
       "        vertical-align: middle;\n",
       "    }\n",
       "\n",
       "    .dataframe tbody tr th {\n",
       "        vertical-align: top;\n",
       "    }\n",
       "\n",
       "    .dataframe thead th {\n",
       "        text-align: right;\n",
       "    }\n",
       "</style>\n",
       "<table border=\"1\" class=\"dataframe\">\n",
       "  <thead>\n",
       "    <tr style=\"text-align: right;\">\n",
       "      <th></th>\n",
       "      <th>waktu</th>\n",
       "      <th>tag</th>\n",
       "      <th>lat</th>\n",
       "      <th>long</th>\n",
       "      <th>tag_tujuan</th>\n",
       "      <th>tujuan_terdekat</th>\n",
       "      <th>durasi_tempuh</th>\n",
       "      <th>durasi_tempuh_unit</th>\n",
       "      <th>jarak_tempuh</th>\n",
       "      <th>jarak_tempuh_unit</th>\n",
       "    </tr>\n",
       "  </thead>\n",
       "  <tbody>\n",
       "    <tr>\n",
       "      <th>0</th>\n",
       "      <td>2023-02-06_13-04</td>\n",
       "      <td>mengemudi</td>\n",
       "      <td>-6.25</td>\n",
       "      <td>106.91</td>\n",
       "      <td>hospital</td>\n",
       "      <td>Harum Sisma Medika Hospital, Jl. Lobi dan UGD ...</td>\n",
       "      <td>9.00</td>\n",
       "      <td>min</td>\n",
       "      <td>2.50</td>\n",
       "      <td>km</td>\n",
       "    </tr>\n",
       "    <tr>\n",
       "      <th>1</th>\n",
       "      <td>2023-02-06_13-05</td>\n",
       "      <td>mengemudi</td>\n",
       "      <td>-6.22</td>\n",
       "      <td>106.92</td>\n",
       "      <td>hospital</td>\n",
       "      <td>Rumah Sakit Harapan Jayakarta, Blok KM No.18, ...</td>\n",
       "      <td>12.00</td>\n",
       "      <td>min</td>\n",
       "      <td>5.70</td>\n",
       "      <td>km</td>\n",
       "    </tr>\n",
       "    <tr>\n",
       "      <th>2</th>\n",
       "      <td>2023-02-06_13-06</td>\n",
       "      <td>mengemudi</td>\n",
       "      <td>-6.18</td>\n",
       "      <td>106.78</td>\n",
       "      <td>hospital</td>\n",
       "      <td>RS Grha Kedoya, Jl. Panjang No.26, RT.15/RW.7,...</td>\n",
       "      <td>12.00</td>\n",
       "      <td>min</td>\n",
       "      <td>3.70</td>\n",
       "      <td>km</td>\n",
       "    </tr>\n",
       "    <tr>\n",
       "      <th>3</th>\n",
       "      <td>2023-02-06_13-07</td>\n",
       "      <td>mengemudi</td>\n",
       "      <td>-6.16</td>\n",
       "      <td>106.96</td>\n",
       "      <td>hospital</td>\n",
       "      <td>Gading Pluit Hospital</td>\n",
       "      <td>22.00</td>\n",
       "      <td>min</td>\n",
       "      <td>9.70</td>\n",
       "      <td>km</td>\n",
       "    </tr>\n",
       "    <tr>\n",
       "      <th>4</th>\n",
       "      <td>2023-02-06_13-07</td>\n",
       "      <td>mengemudi</td>\n",
       "      <td>-6.34</td>\n",
       "      <td>106.82</td>\n",
       "      <td>hospital</td>\n",
       "      <td>Hospital Ali Sibroh Malisi, Jl. Wr. Sila No.1,...</td>\n",
       "      <td>6.00</td>\n",
       "      <td>min</td>\n",
       "      <td>1.50</td>\n",
       "      <td>km</td>\n",
       "    </tr>\n",
       "  </tbody>\n",
       "</table>\n",
       "</div>"
      ],
      "text/plain": [
       "              waktu        tag   lat   long tag_tujuan  \\\n",
       "0  2023-02-06_13-04  mengemudi -6.25 106.91   hospital   \n",
       "1  2023-02-06_13-05  mengemudi -6.22 106.92   hospital   \n",
       "2  2023-02-06_13-06  mengemudi -6.18 106.78   hospital   \n",
       "3  2023-02-06_13-07  mengemudi -6.16 106.96   hospital   \n",
       "4  2023-02-06_13-07  mengemudi -6.34 106.82   hospital   \n",
       "\n",
       "                                     tujuan_terdekat  durasi_tempuh  \\\n",
       "0  Harum Sisma Medika Hospital, Jl. Lobi dan UGD ...           9.00   \n",
       "1  Rumah Sakit Harapan Jayakarta, Blok KM No.18, ...          12.00   \n",
       "2  RS Grha Kedoya, Jl. Panjang No.26, RT.15/RW.7,...          12.00   \n",
       "3                              Gading Pluit Hospital          22.00   \n",
       "4  Hospital Ali Sibroh Malisi, Jl. Wr. Sila No.1,...           6.00   \n",
       "\n",
       "  durasi_tempuh_unit  jarak_tempuh jarak_tempuh_unit  \n",
       "0                min          2.50                km  \n",
       "1                min          5.70                km  \n",
       "2                min          3.70                km  \n",
       "3                min          9.70                km  \n",
       "4                min          1.50                km  "
      ]
     },
     "execution_count": 10,
     "metadata": {},
     "output_type": "execute_result"
    }
   ],
   "source": [
    "sampling_df = sampling_df\\\n",
    "    .drop(columns=['rute'])\\\n",
    "    .drop_duplicates()\\\n",
    "    .reset_index(drop=True)\n",
    "\n",
    "sampling_df.head()"
   ]
  },
  {
   "cell_type": "markdown",
   "metadata": {},
   "source": [
    "Kolom `lat` dan `long` adalah 100 titik sampling yang kita dapat sebelumnya.\n",
    "\n",
    "Sekarang kita akan convert *DataFrame* diatas menjadi *GeoDataFrame*:"
   ]
  },
  {
   "cell_type": "code",
   "execution_count": 11,
   "metadata": {
    "tags": [
     "output_scroll"
    ]
   },
   "outputs": [
    {
     "data": {
      "text/html": [
       "<div>\n",
       "<style scoped>\n",
       "    .dataframe tbody tr th:only-of-type {\n",
       "        vertical-align: middle;\n",
       "    }\n",
       "\n",
       "    .dataframe tbody tr th {\n",
       "        vertical-align: top;\n",
       "    }\n",
       "\n",
       "    .dataframe thead th {\n",
       "        text-align: right;\n",
       "    }\n",
       "</style>\n",
       "<table border=\"1\" class=\"dataframe\">\n",
       "  <thead>\n",
       "    <tr style=\"text-align: right;\">\n",
       "      <th></th>\n",
       "      <th>waktu</th>\n",
       "      <th>tag</th>\n",
       "      <th>lat</th>\n",
       "      <th>long</th>\n",
       "      <th>tag_tujuan</th>\n",
       "      <th>tujuan_terdekat</th>\n",
       "      <th>durasi_tempuh</th>\n",
       "      <th>durasi_tempuh_unit</th>\n",
       "      <th>jarak_tempuh</th>\n",
       "      <th>jarak_tempuh_unit</th>\n",
       "    </tr>\n",
       "  </thead>\n",
       "  <tbody>\n",
       "    <tr>\n",
       "      <th>0</th>\n",
       "      <td>2023-02-06_13-04</td>\n",
       "      <td>mengemudi</td>\n",
       "      <td>-6.25</td>\n",
       "      <td>106.91</td>\n",
       "      <td>hospital</td>\n",
       "      <td>Harum Sisma Medika Hospital, Jl. Lobi dan UGD ...</td>\n",
       "      <td>9.00</td>\n",
       "      <td>min</td>\n",
       "      <td>2.50</td>\n",
       "      <td>km</td>\n",
       "    </tr>\n",
       "    <tr>\n",
       "      <th>1</th>\n",
       "      <td>2023-02-06_13-05</td>\n",
       "      <td>mengemudi</td>\n",
       "      <td>-6.22</td>\n",
       "      <td>106.92</td>\n",
       "      <td>hospital</td>\n",
       "      <td>Rumah Sakit Harapan Jayakarta, Blok KM No.18, ...</td>\n",
       "      <td>12.00</td>\n",
       "      <td>min</td>\n",
       "      <td>5.70</td>\n",
       "      <td>km</td>\n",
       "    </tr>\n",
       "    <tr>\n",
       "      <th>2</th>\n",
       "      <td>2023-02-06_13-06</td>\n",
       "      <td>mengemudi</td>\n",
       "      <td>-6.18</td>\n",
       "      <td>106.78</td>\n",
       "      <td>hospital</td>\n",
       "      <td>RS Grha Kedoya, Jl. Panjang No.26, RT.15/RW.7,...</td>\n",
       "      <td>12.00</td>\n",
       "      <td>min</td>\n",
       "      <td>3.70</td>\n",
       "      <td>km</td>\n",
       "    </tr>\n",
       "    <tr>\n",
       "      <th>3</th>\n",
       "      <td>2023-02-06_13-07</td>\n",
       "      <td>mengemudi</td>\n",
       "      <td>-6.16</td>\n",
       "      <td>106.96</td>\n",
       "      <td>hospital</td>\n",
       "      <td>Gading Pluit Hospital</td>\n",
       "      <td>22.00</td>\n",
       "      <td>min</td>\n",
       "      <td>9.70</td>\n",
       "      <td>km</td>\n",
       "    </tr>\n",
       "    <tr>\n",
       "      <th>4</th>\n",
       "      <td>2023-02-06_13-07</td>\n",
       "      <td>mengemudi</td>\n",
       "      <td>-6.34</td>\n",
       "      <td>106.82</td>\n",
       "      <td>hospital</td>\n",
       "      <td>Hospital Ali Sibroh Malisi, Jl. Wr. Sila No.1,...</td>\n",
       "      <td>6.00</td>\n",
       "      <td>min</td>\n",
       "      <td>1.50</td>\n",
       "      <td>km</td>\n",
       "    </tr>\n",
       "  </tbody>\n",
       "</table>\n",
       "</div>"
      ],
      "text/plain": [
       "              waktu        tag   lat   long tag_tujuan  \\\n",
       "0  2023-02-06_13-04  mengemudi -6.25 106.91   hospital   \n",
       "1  2023-02-06_13-05  mengemudi -6.22 106.92   hospital   \n",
       "2  2023-02-06_13-06  mengemudi -6.18 106.78   hospital   \n",
       "3  2023-02-06_13-07  mengemudi -6.16 106.96   hospital   \n",
       "4  2023-02-06_13-07  mengemudi -6.34 106.82   hospital   \n",
       "\n",
       "                                     tujuan_terdekat  durasi_tempuh  \\\n",
       "0  Harum Sisma Medika Hospital, Jl. Lobi dan UGD ...           9.00   \n",
       "1  Rumah Sakit Harapan Jayakarta, Blok KM No.18, ...          12.00   \n",
       "2  RS Grha Kedoya, Jl. Panjang No.26, RT.15/RW.7,...          12.00   \n",
       "3                              Gading Pluit Hospital          22.00   \n",
       "4  Hospital Ali Sibroh Malisi, Jl. Wr. Sila No.1,...           6.00   \n",
       "\n",
       "  durasi_tempuh_unit  jarak_tempuh jarak_tempuh_unit  \n",
       "0                min          2.50                km  \n",
       "1                min          5.70                km  \n",
       "2                min          3.70                km  \n",
       "3                min          9.70                km  \n",
       "4                min          1.50                km  "
      ]
     },
     "execution_count": 11,
     "metadata": {},
     "output_type": "execute_result"
    }
   ],
   "source": [
    "sampling_gdf = geopandas.GeoDataFrame(data=sampling_df)\n",
    "sampling_gdf.head()"
   ]
  },
  {
   "cell_type": "markdown",
   "metadata": {},
   "source": [
    "*GeoDataFrame* diatas belum sepenuhnya menjadi `gdf` karena kekurangan satu data vital: `geometric spatial` data. Oleh karena itu, kita akan membuat satu kolom geometric yang mengandung *geometric* dalam format `shapely.Point`:"
   ]
  },
  {
   "cell_type": "code",
   "execution_count": 12,
   "metadata": {
    "tags": [
     "output_scroll"
    ]
   },
   "outputs": [],
   "source": [
    "def get_point(x, y):\n",
    "    return Point(x, y)\n",
    "\n",
    "get_point_vect = np.vectorize(get_point)\n",
    "\n",
    "sampling_gdf = sampling_gdf.assign(\n",
    "    geometry=lambda x: geopandas.GeoSeries.from_xy(x.long, x.lat)\n",
    "    )\n",
    "sampling_gdf = geopandas.GeoDataFrame(sampling_gdf, crs=4326)"
   ]
  },
  {
   "cell_type": "markdown",
   "metadata": {},
   "source": [
    "Kita akan menggabungkan kolom [`district`, `geometry`] dari `jakarta_gdf` ke dalam `sampling_gdf` dengan menggunakan codes berikut:"
   ]
  },
  {
   "cell_type": "code",
   "execution_count": 13,
   "metadata": {
    "tags": [
     "output_scroll"
    ]
   },
   "outputs": [
    {
     "data": {
      "text/html": [
       "<div>\n",
       "<style scoped>\n",
       "    .dataframe tbody tr th:only-of-type {\n",
       "        vertical-align: middle;\n",
       "    }\n",
       "\n",
       "    .dataframe tbody tr th {\n",
       "        vertical-align: top;\n",
       "    }\n",
       "\n",
       "    .dataframe thead th {\n",
       "        text-align: right;\n",
       "    }\n",
       "</style>\n",
       "<table border=\"1\" class=\"dataframe\">\n",
       "  <thead>\n",
       "    <tr style=\"text-align: right;\">\n",
       "      <th></th>\n",
       "      <th>city</th>\n",
       "      <th>district</th>\n",
       "      <th>geometry</th>\n",
       "      <th>index_right</th>\n",
       "      <th>waktu</th>\n",
       "      <th>tag</th>\n",
       "      <th>lat</th>\n",
       "      <th>long</th>\n",
       "      <th>tag_tujuan</th>\n",
       "      <th>tujuan_terdekat</th>\n",
       "      <th>durasi_tempuh</th>\n",
       "      <th>durasi_tempuh_unit</th>\n",
       "      <th>jarak_tempuh</th>\n",
       "      <th>jarak_tempuh_unit</th>\n",
       "    </tr>\n",
       "  </thead>\n",
       "  <tbody>\n",
       "    <tr>\n",
       "      <th>0</th>\n",
       "      <td>JakartaBarat</td>\n",
       "      <td>Cengkareng</td>\n",
       "      <td>MULTIPOLYGON (((106.70850 -6.18110, 106.70040 ...</td>\n",
       "      <td>31</td>\n",
       "      <td>2023-02-06_13-25</td>\n",
       "      <td>mengemudi</td>\n",
       "      <td>-6.18</td>\n",
       "      <td>106.71</td>\n",
       "      <td>hospital</td>\n",
       "      <td>Klinik Citra Keluarga Medika, Jl. Raya No.74 R...</td>\n",
       "      <td>8.00</td>\n",
       "      <td>min</td>\n",
       "      <td>1.90</td>\n",
       "      <td>km</td>\n",
       "    </tr>\n",
       "    <tr>\n",
       "      <th>0</th>\n",
       "      <td>JakartaBarat</td>\n",
       "      <td>Cengkareng</td>\n",
       "      <td>MULTIPOLYGON (((106.70850 -6.18110, 106.70040 ...</td>\n",
       "      <td>87</td>\n",
       "      <td>2023-02-06_14-00</td>\n",
       "      <td>mengemudi</td>\n",
       "      <td>-6.17</td>\n",
       "      <td>106.72</td>\n",
       "      <td>hospital</td>\n",
       "      <td>Pondok Indah Hospital - Puri Indah, Jl. Puri I...</td>\n",
       "      <td>21.00</td>\n",
       "      <td>min</td>\n",
       "      <td>6.90</td>\n",
       "      <td>km</td>\n",
       "    </tr>\n",
       "    <tr>\n",
       "      <th>0</th>\n",
       "      <td>JakartaBarat</td>\n",
       "      <td>Cengkareng</td>\n",
       "      <td>MULTIPOLYGON (((106.70850 -6.18110, 106.70040 ...</td>\n",
       "      <td>61</td>\n",
       "      <td>2023-02-06_13-45</td>\n",
       "      <td>mengemudi</td>\n",
       "      <td>-6.17</td>\n",
       "      <td>106.73</td>\n",
       "      <td>hospital</td>\n",
       "      <td>Pondok Indah Hospital - Puri Indah, Jl. Puri I...</td>\n",
       "      <td>11.00</td>\n",
       "      <td>min</td>\n",
       "      <td>2.50</td>\n",
       "      <td>km</td>\n",
       "    </tr>\n",
       "    <tr>\n",
       "      <th>0</th>\n",
       "      <td>JakartaBarat</td>\n",
       "      <td>Cengkareng</td>\n",
       "      <td>MULTIPOLYGON (((106.70850 -6.18110, 106.70040 ...</td>\n",
       "      <td>64</td>\n",
       "      <td>2023-02-06_13-47</td>\n",
       "      <td>mengemudi</td>\n",
       "      <td>-6.13</td>\n",
       "      <td>106.73</td>\n",
       "      <td>hospital</td>\n",
       "      <td>Ciputra Hospital CitraGarden City, Jl. Satu Ma...</td>\n",
       "      <td>13.00</td>\n",
       "      <td>min</td>\n",
       "      <td>4.00</td>\n",
       "      <td>km</td>\n",
       "    </tr>\n",
       "    <tr>\n",
       "      <th>1</th>\n",
       "      <td>JakartaBarat</td>\n",
       "      <td>Grogolpetamburan</td>\n",
       "      <td>MULTIPOLYGON (((106.79450 -6.15270, 106.79940 ...</td>\n",
       "      <td>14</td>\n",
       "      <td>2023-02-06_13-14</td>\n",
       "      <td>mengemudi</td>\n",
       "      <td>-6.16</td>\n",
       "      <td>106.78</td>\n",
       "      <td>hospital</td>\n",
       "      <td>RS Grha Kedoya, Jl. Panjang No.26, RT.15/RW.7,...</td>\n",
       "      <td>10.00</td>\n",
       "      <td>min</td>\n",
       "      <td>3.00</td>\n",
       "      <td>km</td>\n",
       "    </tr>\n",
       "  </tbody>\n",
       "</table>\n",
       "</div>"
      ],
      "text/plain": [
       "           city          district  \\\n",
       "0  JakartaBarat        Cengkareng   \n",
       "0  JakartaBarat        Cengkareng   \n",
       "0  JakartaBarat        Cengkareng   \n",
       "0  JakartaBarat        Cengkareng   \n",
       "1  JakartaBarat  Grogolpetamburan   \n",
       "\n",
       "                                            geometry  index_right  \\\n",
       "0  MULTIPOLYGON (((106.70850 -6.18110, 106.70040 ...           31   \n",
       "0  MULTIPOLYGON (((106.70850 -6.18110, 106.70040 ...           87   \n",
       "0  MULTIPOLYGON (((106.70850 -6.18110, 106.70040 ...           61   \n",
       "0  MULTIPOLYGON (((106.70850 -6.18110, 106.70040 ...           64   \n",
       "1  MULTIPOLYGON (((106.79450 -6.15270, 106.79940 ...           14   \n",
       "\n",
       "              waktu        tag   lat   long tag_tujuan  \\\n",
       "0  2023-02-06_13-25  mengemudi -6.18 106.71   hospital   \n",
       "0  2023-02-06_14-00  mengemudi -6.17 106.72   hospital   \n",
       "0  2023-02-06_13-45  mengemudi -6.17 106.73   hospital   \n",
       "0  2023-02-06_13-47  mengemudi -6.13 106.73   hospital   \n",
       "1  2023-02-06_13-14  mengemudi -6.16 106.78   hospital   \n",
       "\n",
       "                                     tujuan_terdekat  durasi_tempuh  \\\n",
       "0  Klinik Citra Keluarga Medika, Jl. Raya No.74 R...           8.00   \n",
       "0  Pondok Indah Hospital - Puri Indah, Jl. Puri I...          21.00   \n",
       "0  Pondok Indah Hospital - Puri Indah, Jl. Puri I...          11.00   \n",
       "0  Ciputra Hospital CitraGarden City, Jl. Satu Ma...          13.00   \n",
       "1  RS Grha Kedoya, Jl. Panjang No.26, RT.15/RW.7,...          10.00   \n",
       "\n",
       "  durasi_tempuh_unit  jarak_tempuh jarak_tempuh_unit  \n",
       "0                min          1.90                km  \n",
       "0                min          6.90                km  \n",
       "0                min          2.50                km  \n",
       "0                min          4.00                km  \n",
       "1                min          3.00                km  "
      ]
     },
     "execution_count": 13,
     "metadata": {},
     "output_type": "execute_result"
    }
   ],
   "source": [
    "sampling_gdf_joined = \\\n",
    "    geopandas.sjoin(\n",
    "        jakarta_gdf[['city', 'district', 'geometry']], \n",
    "        sampling_gdf,  \n",
    "        how='inner', predicate='contains')\n",
    "\n",
    "sampling_gdf_joined.head()"
   ]
  },
  {
   "cell_type": "markdown",
   "metadata": {},
   "source": [
    "Perhatikan bahwa kita menggunakan operasi `contains`, sama seperti *low-level operations* yang sudah dijelaskan sebelumnya. Hanya dengan menggunakan `geopandas.sjoin`, operasi ini dilakukan *row-wise* (vectorized)."
   ]
  },
  {
   "cell_type": "markdown",
   "metadata": {},
   "source": [
    "#### **Contoh Output: Geospatial Plot**"
   ]
  },
  {
   "cell_type": "markdown",
   "metadata": {},
   "source": [
    "Dari *GeoDataFrame* diatas, terdapat `MULTIPOLYGON` geometry. Kita bisa menggunakan dataframe diatas untuk membuat plot berdasarkan polygon tersebut, dalam contoh ini akan dihasilkan plot level *kecamatan*."
   ]
  },
  {
   "cell_type": "code",
   "execution_count": 14,
   "metadata": {},
   "outputs": [
    {
     "data": {
      "image/png": "[encoded data removed]",
      "text/plain": [
       "<Figure size 640x480 with 2 Axes>"
      ]
     },
     "metadata": {
      "filenames": {
       "image/png": "D:\\LEARN\\DATA SCIENCE\\2 WORKSPACE\\4 PROJECT\\6 GEOJSON EXAMPLE\\geojsonwithpython\\_build\\_page\\GEOJSON\\jupyter_execute\\GEOJSON_39_0.png"
      }
     },
     "output_type": "display_data"
    }
   ],
   "source": [
    "agg_sampling_df = sampling_gdf_joined\\\n",
    "    .groupby('district')\\\n",
    "    .agg({'durasi_tempuh': 'mean', 'geometry': lambda x: x.values[0]})\\\n",
    "    .reset_index()\n",
    "agg_sampling_df = geopandas.GeoDataFrame(agg_sampling_df, crs=4326)\n",
    "fig, ax = plt.subplots()\n",
    "agg_sampling_df.plot('durasi_tempuh', legend=True, ax=ax)\n",
    "ax.set_title('Rata-rata Durasi Tempuh (menit) ke Rumah Sakit Terdekat')\n",
    "plt.show()"
   ]
  },
  {
   "cell_type": "markdown",
   "metadata": {},
   "source": [
    "Di atas adalah contoh penggunaan `GeoDataFrame.plot()`. Dalam contoh di atas, kita melakukan aggregate *mean* untuk durasi tempuh berdasarkan `kecamatan`. Terdapat *missing records* di beberapa titik kecamatan. \n",
    "\n",
    "Selain menggunakan `GeoDataFrame.plot()`, kita bisa menggunakan `plotly` untuk menghasilkan plot interaktif:"
   ]
  },
  {
   "cell_type": "code",
   "execution_count": 15,
   "metadata": {},
   "outputs": [
    {
     "data": {
      "text/html": [
       "<iframe\n",
       "    scrolling=\"no\"\n",
       "    width=\"100%\"\n",
       "    height=\"545px\"\n",
       "    src=\"iframe_figures/figure_15.html\"\n",
       "    frameborder=\"0\"\n",
       "    allowfullscreen\n",
       "></iframe>\n"
      ]
     },
     "metadata": {},
     "output_type": "display_data"
    }
   ],
   "source": [
    "# plot\n",
    "filename = 'data\\DKI_JAKARTA_lvl_3.json'\n",
    "with open(filename, 'r') as f:\n",
    "    poly_geojson_3 = json.load(f)\n",
    "fig = px.choropleth(\n",
    "    data_frame=agg_sampling_df,\n",
    "    geojson=poly_geojson_3,\n",
    "    locations='district',\n",
    "    color='durasi_tempuh',\n",
    "    featureidkey='properties.NAME_3',\n",
    "    fitbounds='locations',\n",
    "    basemap_visible=False,\n",
    "    title='Rata-rata Durasi Tempuh (menit) ke Rumah Sakit Terdekat',\n",
    "    )\n",
    "fig.show(renderer='iframe')"
   ]
  },
  {
   "cell_type": "markdown",
   "metadata": {},
   "source": [
    "## 3. Reference"
   ]
  },
  {
   "cell_type": "markdown",
   "metadata": {},
   "source": [
    "Data GeoJSON didapat dari: [GADM](https://gadm.org/download_country.html).\n",
    "\n",
    "Online GeoJSON editor menggunakan: [Geoman.io](https://geoman.io)."
   ]
  }
 ],
 "metadata": {
  "kernelspec": {
   "display_name": "Python 3 (ipykernel)",
   "language": "python",
   "name": "python3"
  },
  "language_info": {
   "codemirror_mode": {
    "name": "ipython",
    "version": 3
   },
   "file_extension": ".py",
   "mimetype": "text/x-python",
   "name": "python",
   "nbconvert_exporter": "python",
   "pygments_lexer": "ipython3",
   "version": "3.8.16"
  },
  "vscode": {
   "interpreter": {
    "hash": "a4b16ea50ddefa30549c41365c5dbeeb30a66e3b48650b38f3fc1254c3122275"
   }
  }
 },
 "nbformat": 4,
 "nbformat_minor": 4
}